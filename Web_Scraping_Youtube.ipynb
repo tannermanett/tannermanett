{
 "cells": [
  {
   "cell_type": "markdown",
   "metadata": {},
   "source": [
    "Heres a simple program that scrapes youtube data from a specific page and exports it to a csv file for further analysis"
   ]
  },
  {
   "cell_type": "code",
   "execution_count": 1,
   "metadata": {},
   "outputs": [],
   "source": [
    "from selenium import webdriver\n",
    "from selenium.webdriver.support import expected_conditions as EC\n",
    "from selenium.webdriver.common.by import By\n",
    "import pandas as pd\n",
    "url = 'https://www.youtube.com/c/TheParleh/videos?view=0&sort=p&flow=grid'\n"
   ]
  },
  {
   "cell_type": "code",
   "execution_count": 2,
   "metadata": {},
   "outputs": [
    {
     "name": "stderr",
     "output_type": "stream",
     "text": [
      "C:\\Users\\tmane\\AppData\\Local\\Temp\\ipykernel_33868\\4092660871.py:1: DeprecationWarning: executable_path has been deprecated, please pass in a Service object\n",
      "  driver = webdriver.Chrome('C:/Users/tmane/Downloads/chromedriver_win32/chromedriver.exe')\n"
     ]
    }
   ],
   "source": [
    "driver = webdriver.Chrome('C:/Users/tmane/Downloads/chromedriver_win32/chromedriver.exe')\n",
    "driver.get(url)"
   ]
  },
  {
   "cell_type": "markdown",
   "metadata": {},
   "source": [
    "Videos"
   ]
  },
  {
   "cell_type": "code",
   "execution_count": 3,
   "metadata": {},
   "outputs": [
    {
     "name": "stderr",
     "output_type": "stream",
     "text": [
      "C:\\Users\\tmane\\AppData\\Local\\Temp\\ipykernel_33868\\2983199012.py:1: DeprecationWarning: find_elements_by_* commands are deprecated. Please use find_elements() instead\n",
      "  videos = driver.find_elements_by_class_name('style-scope ytd-grid-video-renderer')\n",
      "C:\\Users\\tmane\\AppData\\Local\\Programs\\Python\\Python310\\lib\\site-packages\\selenium\\webdriver\\remote\\webelement.py:426: UserWarning: find_elements_by_* commands are deprecated. Please use find_elements() instead\n",
      "  warnings.warn(\"find_elements_by_* commands are deprecated. Please use find_elements() instead\")\n"
     ]
    }
   ],
   "source": [
    "videos = driver.find_elements_by_class_name('style-scope ytd-grid-video-renderer')\n",
    "\n",
    "t = []\n",
    "vi = []\n",
    "d = []\n",
    "\n",
    "\n",
    "for v in videos:\n",
    "    driver.execute_script(\"window.scrollTo(0, 10000000000000000);\")\n",
    "\n",
    "    title = v.find_elements_by_xpath('.//*[@id=\"video-title\"]')[0].text\n",
    "    t.append(title)\n",
    "\n",
    "    views = v.find_elements_by_xpath('.//*[@id=\"metadata-line\"]/span[1]')[0].text.split(' ')[0]\n",
    "    vi.append(views)\n",
    "\n",
    "    date = v.find_elements_by_xpath('.//*[@id=\"metadata-line\"]/span[2]')[0].text\n",
    "    d.append(date)\n",
    "   \n",
    "\n"
   ]
  },
  {
   "cell_type": "markdown",
   "metadata": {},
   "source": [
    "Dataframe"
   ]
  },
  {
   "cell_type": "code",
   "execution_count": 4,
   "metadata": {},
   "outputs": [
    {
     "name": "stdout",
     "output_type": "stream",
     "text": [
      "                                                Title Views   Date Posted\n",
      "0   ‘THAT‘ Alphonso Davies goal: What. Just. Happe...  8.7K  5 months ago\n",
      "1   Our reaction to THAT Jonathan David goal for T...  4.2K   1 month ago\n",
      "2   Suns vs Mavericks Preview | Picks Against the ...  3.1K  2 months ago\n",
      "3   RAPS v TIMBERWOLVES | NBA | Why the Raptors wi...    3K   1 month ago\n",
      "4   NBA Picks | Nets underdogs against the Kings |...  2.8K   1 month ago\n",
      "5   Propzies | Super Bowl LVI prop bets featuring ...  2.4K   1 month ago\n",
      "6   Arvidsson’s timely goals land him first star o...  1.9K   1 month ago\n",
      "7   Best Bets | Canadian Curling Olympic Trials Fi...  1.5K  3 months ago\n",
      "8   NBA Picks | Curry and the Warriors set for a s...  1.5K  3 months ago\n",
      "9   Bet On Women | Australian Open continues into ...  1.3K  2 months ago\n",
      "10  BUCKS v HORNETS | Giannis and the Bucks are lo...  1.3K  2 months ago\n",
      "11  76ers vs. Nets | 76ers are in Brooklyn tonight...  1.2K  3 months ago\n",
      "12  NBA Picks | Can the Raptors get their offense ...  1.2K  2 months ago\n",
      "13  NBA = Noor's Betting Advice | Suns take on the...  1.1K   1 month ago\n",
      "14  NBA Picks | Warriors on FIRE as underdogs vs. ...    1K   1 month ago\n",
      "15  NBA Picks | Miami Heat vs Indiana Pacers | Pic...    1K  3 months ago\n",
      "16  NBA Picks | Charlotte Hornets at Boston Celtic...    1K   1 month ago\n",
      "17  FAST MONEY FOOTBALL | Canada vs USA CONCACAF W...    1K   1 month ago\n",
      "18  Canadiens and Jets Meet for First Time Since 2...   997   3 weeks ago\n",
      "19  BUCKS vs. MAVS | Mavericks take on the defendi...   927  3 months ago\n",
      "20  NHL Three Stars | Connor’s big night, Demko co...   922   3 weeks ago\n",
      "21  NBA Picks | The New York Knicks could be turni...   841  3 months ago\n",
      "22  NBA Picks | LA Lakers at Memphis Grizzlies | D...   825  3 months ago\n",
      "23  NHL Three Stars | Star rookie lands himself at...   790   1 month ago\n",
      "24               Raptors in tough on the road at Jazz   785  4 months ago\n",
      "25  Curling Trials | Brad Gushue vs. Brad Jacobs |...   779  4 months ago\n",
      "26  Penguins v Red Wings | Penguins heavy favourit...   777   1 month ago\n",
      "27  Warriors and Bucks meet in what could be an NB...   769  2 months ago\n",
      "28  Raptors Props | Look for Siakam, VanVleet to s...   768  2 months ago\n",
      "29  MAVS v RAPS | Mavericks look to continue winni...   768  2 months ago\n"
     ]
    }
   ],
   "source": [
    "data = {\n",
    "    'Title': t,\n",
    "    'Views': vi,\n",
    "    'Date Posted': d\n",
    "}\n",
    "\n",
    "df = pd.DataFrame(data)\n",
    "print(df)"
   ]
  },
  {
   "cell_type": "code",
   "execution_count": 5,
   "metadata": {},
   "outputs": [],
   "source": [
    "df.to_csv('parlehyoutubedata.csv')"
   ]
  }
 ],
 "metadata": {
  "interpreter": {
   "hash": "8cb606a21dce8683b3ee58cfb2c07cb28e4d23cfe6be821578dd050f96dfcd5c"
  },
  "kernelspec": {
   "display_name": "Python 3.10.1 64-bit",
   "language": "python",
   "name": "python3"
  },
  "language_info": {
   "codemirror_mode": {
    "name": "ipython",
    "version": 3
   },
   "file_extension": ".py",
   "mimetype": "text/x-python",
   "name": "python",
   "nbconvert_exporter": "python",
   "pygments_lexer": "ipython3",
   "version": "3.10.1"
  },
  "orig_nbformat": 4
 },
 "nbformat": 4,
 "nbformat_minor": 2
}
