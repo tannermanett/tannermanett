{
 "cells": [
  {
   "cell_type": "code",
   "execution_count": 26,
   "metadata": {},
   "outputs": [],
   "source": [
    "from selenium import webdriver\n",
    "from selenium.webdriver.support import expected_conditions as EC\n",
    "from selenium.webdriver.common.by import By\n",
    "import pandas as pd\n",
    "url = 'https://www.youtube.com/c/TheParleh/videos?view=0&sort=p&flow=grid'\n"
   ]
  },
  {
   "cell_type": "code",
   "execution_count": 27,
   "metadata": {},
   "outputs": [
    {
     "name": "stderr",
     "output_type": "stream",
     "text": [
      "C:\\Users\\tmane\\AppData\\Local\\Temp\\ipykernel_32848\\4092660871.py:1: DeprecationWarning: executable_path has been deprecated, please pass in a Service object\n",
      "  driver = webdriver.Chrome('C:/Users/tmane/Downloads/chromedriver_win32/chromedriver.exe')\n"
     ]
    }
   ],
   "source": [
    "driver = webdriver.Chrome('C:/Users/tmane/Downloads/chromedriver_win32/chromedriver.exe')\n",
    "driver.get(url)"
   ]
  },
  {
   "cell_type": "markdown",
   "metadata": {},
   "source": [
    "Videos"
   ]
  },
  {
   "cell_type": "code",
   "execution_count": 28,
   "metadata": {},
   "outputs": [
    {
     "name": "stderr",
     "output_type": "stream",
     "text": [
      "C:\\Users\\tmane\\AppData\\Local\\Temp\\ipykernel_32848\\2173861084.py:1: DeprecationWarning: find_elements_by_* commands are deprecated. Please use find_elements() instead\n",
      "  videos = driver.find_elements_by_class_name('style-scope ytd-grid-video-renderer')\n"
     ]
    }
   ],
   "source": [
    "videos = driver.find_elements_by_class_name('style-scope ytd-grid-video-renderer')\n",
    "\n",
    "t = []\n",
    "vi = []\n",
    "d = []\n",
    "\n",
    "\n",
    "for v in videos:\n",
    "    driver.execute_script(\"window.scrollTo(0, 10000000000000000);\")\n",
    "\n",
    "    title = v.find_elements_by_xpath('.//*[@id=\"video-title\"]')[0].text\n",
    "    t.append(title)\n",
    "\n",
    "    views = v.find_elements_by_xpath('.//*[@id=\"metadata-line\"]/span[1]')[0].text.split(' ')[0]\n",
    "    vi.append(views)\n",
    "\n",
    "    date = v.find_elements_by_xpath('.//*[@id=\"metadata-line\"]/span[2]')[0].text\n",
    "    d.append(date)\n",
    "   \n",
    "\n"
   ]
  },
  {
   "cell_type": "markdown",
   "metadata": {},
   "source": [
    "Dataframe"
   ]
  },
  {
   "cell_type": "code",
   "execution_count": 29,
   "metadata": {},
   "outputs": [
    {
     "name": "stdout",
     "output_type": "stream",
     "text": [
      "Empty DataFrame\n",
      "Columns: [Title, Views, Date Posted]\n",
      "Index: []\n"
     ]
    }
   ],
   "source": [
    "data = {\n",
    "    'Title': t,\n",
    "    'Views': vi,\n",
    "    'Date Posted': d\n",
    "}\n",
    "\n",
    "df = pd.DataFrame(data)\n",
    "print(df)"
   ]
  },
  {
   "cell_type": "code",
   "execution_count": 30,
   "metadata": {},
   "outputs": [],
   "source": [
    "df.to_csv('parlehyoutubedata.csv')"
   ]
  },
  {
   "cell_type": "code",
   "execution_count": null,
   "metadata": {},
   "outputs": [],
   "source": []
  }
 ],
 "metadata": {
  "interpreter": {
   "hash": "8cb606a21dce8683b3ee58cfb2c07cb28e4d23cfe6be821578dd050f96dfcd5c"
  },
  "kernelspec": {
   "display_name": "Python 3.10.1 64-bit",
   "language": "python",
   "name": "python3"
  },
  "language_info": {
   "codemirror_mode": {
    "name": "ipython",
    "version": 3
   },
   "file_extension": ".py",
   "mimetype": "text/x-python",
   "name": "python",
   "nbconvert_exporter": "python",
   "pygments_lexer": "ipython3",
   "version": "3.10.1"
  },
  "orig_nbformat": 4
 },
 "nbformat": 4,
 "nbformat_minor": 2
}
