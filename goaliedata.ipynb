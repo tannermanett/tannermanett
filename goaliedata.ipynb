{
 "cells": [
  {
   "cell_type": "code",
   "execution_count": 1,
   "metadata": {},
   "outputs": [],
   "source": [
    "import pandas\n",
    "import smtplib\n",
    "from email.message import EmailMessage"
   ]
  },
  {
   "cell_type": "code",
   "execution_count": 2,
   "metadata": {},
   "outputs": [
    {
     "name": "stdout",
     "output_type": "stream",
     "text": [
      "Nico Daws is Expected to start tonight\n",
      "Jacob Markstrom is Confirmed to start tonight\n",
      "Jeremy Swayman is Confirmed to start tonight\n",
      "Cam Talbot is Confirmed to start tonight\n",
      "Elvis Merzlikins is Confirmed to start tonight\n",
      "Anton Forsberg is Confirmed to start tonight\n",
      "Andrei Vasilevskiy is Confirmed to start tonight\n",
      "Philipp Grubauer is Confirmed to start tonight\n"
     ]
    }
   ],
   "source": [
    "import requests\n",
    "from bs4 import BeautifulSoup\n",
    "\n",
    "result = requests.get(\"https://www.lineupexperts.com/hockey/starting-goalies\") \n",
    "\n",
    "src = result.text\n",
    "soup = BeautifulSoup(src, 'html.parser')\n",
    "\n",
    "urls = []\n",
    "confirmation = []\n",
    "\n",
    "for span_tags in soup.find_all(\"div\", class_=\"text-large\"):\n",
    "    urls.append(span_tags.text)\n",
    "   \n",
    "\n",
    "for confirmed in soup.find_all(\"div\", style='font-size:1.3em;font-weight:bold;'):\n",
    "    confirmation.append(confirmed.text)\n",
    "\n",
    "for i,j in zip(urls, confirmation):\n",
    "     print(f'{i} is{j} to start tonight')\n",
    "\n"
   ]
  },
  {
   "cell_type": "markdown",
   "metadata": {},
   "source": []
  },
  {
   "cell_type": "markdown",
   "metadata": {},
   "source": [
    "DataFrame of starting goalies information"
   ]
  },
  {
   "cell_type": "code",
   "execution_count": 3,
   "metadata": {},
   "outputs": [
    {
     "name": "stdout",
     "output_type": "stream",
     "text": [
      "                 Name    Starting\n",
      "0           Nico Daws    Expected\n",
      "1     Jacob Markstrom   Confirmed\n",
      "2      Jeremy Swayman   Confirmed\n",
      "3          Cam Talbot   Confirmed\n",
      "4    Elvis Merzlikins   Confirmed\n",
      "5      Anton Forsberg   Confirmed\n",
      "6  Andrei Vasilevskiy   Confirmed\n",
      "7    Philipp Grubauer   Confirmed\n"
     ]
    }
   ],
   "source": [
    "\n",
    "data = {'Name': urls,\n",
    "'Starting': confirmation\n",
    "}\n",
    "\n",
    "df = pandas.DataFrame(data)\n",
    "\n",
    "print(df)"
   ]
  },
  {
   "cell_type": "code",
   "execution_count": 4,
   "metadata": {},
   "outputs": [],
   "source": [
    "import smtplib\n",
    "from email.message import EmailMessage\n",
    "\n",
    "def email_alert(subject, body, to):\n",
    "    msg = EmailMessage()\n",
    "    \n",
    "    msg.set_content(body)\n",
    "    msg['subject'] = subject\n",
    "    msg['to'] = to\n",
    "\n",
    "    user = \"t.manett@gmail.com\"\n",
    "    msg['from'] = user\n",
    "    password = \"atpimneebawcogbp\"\n",
    "\n",
    "    server = smtplib.SMTP(\"smtp.gmail.com\", 587)\n",
    "\n",
    "    server.starttls()\n",
    "    server.login(user, password)\n",
    "    server.send_message(msg)\n",
    "    server.quit()\n",
    "\n",
    "email_string = \"\"\n",
    "\n",
    "for i,j in zip(urls, confirmation):\n",
    "    email_string = email_string + str(f'{i} is {j} to start tonight\\n')\n",
    "\n",
    "email_alert('Starting Goalies', email_string, 't.manett@gmail.com')\n"
   ]
  },
  {
   "cell_type": "code",
   "execution_count": null,
   "metadata": {},
   "outputs": [],
   "source": []
  }
 ],
 "metadata": {
  "interpreter": {
   "hash": "8cb606a21dce8683b3ee58cfb2c07cb28e4d23cfe6be821578dd050f96dfcd5c"
  },
  "kernelspec": {
   "display_name": "Python 3.10.1 64-bit",
   "language": "python",
   "name": "python3"
  },
  "language_info": {
   "codemirror_mode": {
    "name": "ipython",
    "version": 3
   },
   "file_extension": ".py",
   "mimetype": "text/x-python",
   "name": "python",
   "nbconvert_exporter": "python",
   "pygments_lexer": "ipython3",
   "version": "3.10.1"
  },
  "orig_nbformat": 4
 },
 "nbformat": 4,
 "nbformat_minor": 2
}
