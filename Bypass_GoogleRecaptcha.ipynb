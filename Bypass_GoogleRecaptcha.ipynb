{
 "cells": [
  {
   "cell_type": "code",
   "execution_count": 28,
   "metadata": {},
   "outputs": [],
   "source": [
    "from selenium import webdriver\n",
    "from selenium.webdriver.common.keys import Keys\n",
    "from selenium.webdriver.support import expected_conditions as EC\n",
    "from selenium.webdriver.common.by import By\n",
    "from selenium.webdriver.support.wait import WebDriverWait\n",
    "from selenium.webdriver.chrome.options import Options as ChromeOptions\n",
    "\n",
    "import os\n",
    "import time\n",
    "import random\n",
    "\n",
    "import pandas as pd\n",
    "\n",
    "chrome_options = ChromeOptions()\n",
    "chrome_options.add_extension('C:/Users/tmane/Downloads/chromedriver_win32/buster.crx')\n"
   ]
  },
  {
   "cell_type": "code",
   "execution_count": 29,
   "metadata": {},
   "outputs": [
    {
     "name": "stderr",
     "output_type": "stream",
     "text": [
      "C:\\Users\\tmane\\AppData\\Local\\Temp\\ipykernel_3424\\1729624328.py:1: DeprecationWarning: executable_path has been deprecated, please pass in a Service object\n",
      "  driver = webdriver.Chrome('C:/Users/tmane/Downloads/chromedriver_win32/chromedriver.exe', options=chrome_options)\n"
     ]
    }
   ],
   "source": [
    "driver = webdriver.Chrome('C:/Users/tmane/Downloads/chromedriver_win32/chromedriver.exe', options=chrome_options)\n",
    "driver.get('https://www.kucoin.com/')\n",
    "\n",
    "def delay():\n",
    "    time.sleep(random.randint(2,3))"
   ]
  },
  {
   "cell_type": "markdown",
   "metadata": {},
   "source": [
    "Click Login"
   ]
  },
  {
   "cell_type": "code",
   "execution_count": 30,
   "metadata": {},
   "outputs": [],
   "source": [
    "button = WebDriverWait(driver, 2).until(EC.element_to_be_clickable((By.XPATH, '//*[@id=\"hook_nav_user\"]/div[1]/div[1]/a[1]/div'))).click()\n",
    "delay()"
   ]
  },
  {
   "cell_type": "markdown",
   "metadata": {},
   "source": [
    "Login with username/password"
   ]
  },
  {
   "cell_type": "code",
   "execution_count": 31,
   "metadata": {},
   "outputs": [],
   "source": [
    "username = WebDriverWait(driver, 10).until(EC.element_to_be_clickable((By.XPATH, '//*[@id=\"root\"]/div/div/div/div/div[1]/div/div/div[2]/div/div[2]/div/div/div/div[3]/form/div[1]/div[1]/input')))\n",
    "password = WebDriverWait(driver, 10).until(EC.element_to_be_clickable((By.XPATH, '//*[@id=\"root\"]/div/div/div/div/div[1]/div/div/div[2]/div/div[2]/div/div/div/div[3]/form/div[2]/div[1]/input')))\n",
    "\n",
    "#enter username and password\n",
    "username.clear()\n",
    "username.send_keys(\"username\")\n",
    "password.clear()\n",
    "password.send_keys(\"password\")\n",
    "\n",
    "delay()\n",
    "button1 = WebDriverWait(driver, 2).until(EC.element_to_be_clickable((By.XPATH, '//*[@id=\"root\"]/div/div/div/div/div[1]/div/div/div[2]/div/div[2]/div/div/div/div[3]/form/button/span[1]'))).click()\n",
    "WebDriverWait(driver, 10).until(EC.frame_to_be_available_and_switch_to_it((By.XPATH,\"//*['@id=recaptcha']/div/div/iframe\")))\n",
    "\n",
    "delay()\n",
    "WebDriverWait(driver, 10).until(EC.element_to_be_clickable((By.XPATH, \"//*[@id='recaptcha-anchor']\"))).click()\n",
    "delay()\n",
    "\n"
   ]
  },
  {
   "cell_type": "markdown",
   "metadata": {},
   "source": [
    "Bypassing ReCaptcha"
   ]
  },
  {
   "cell_type": "code",
   "execution_count": 32,
   "metadata": {},
   "outputs": [],
   "source": [
    "#recaptcha lib\n",
    "import speech_recognition as sr\n",
    "import ffmpy\n",
    "import requests\n",
    "import urllib\n",
    "from pydub import AudioSegment\n",
    "from os import path\n",
    "import glob\n"
   ]
  },
  {
   "cell_type": "code",
   "execution_count": 33,
   "metadata": {},
   "outputs": [
    {
     "name": "stderr",
     "output_type": "stream",
     "text": [
      "C:\\Users\\tmane\\AppData\\Local\\Temp\\ipykernel_3424\\4194339506.py:12: DeprecationWarning: find_element_by_* commands are deprecated. Please use find_element() instead\n",
      "  src = driver.find_element_by_id(\"audio-source\").get_attribute(\"src\")\n"
     ]
    },
    {
     "data": {
      "text/plain": [
       "('src.mp3', <http.client.HTTPMessage at 0x15739011030>)"
      ]
     },
     "execution_count": 33,
     "metadata": {},
     "output_type": "execute_result"
    }
   ],
   "source": [
    "driver.switch_to.default_content()\n",
    "delay()\n",
    "WebDriverWait(driver, 10).until(EC.frame_to_be_available_and_switch_to_it((By.XPATH,\"/html/body/div[3]/div[4]/iframe\")))\n",
    "WebDriverWait(driver, 10).until(EC.element_to_be_clickable((By.XPATH, \"//*[@id='recaptcha-audio-button']\"))).click()\n",
    "\n",
    "delay()\n",
    "WebDriverWait(driver, 10).until(\n",
    "    EC.presence_of_element_located((By.CSS_SELECTOR, \".rc-audiochallenge-play-button button\")))\n",
    "\n",
    "# get the flac audio file\n",
    "\n",
    "src = driver.find_element_by_id(\"audio-source\").get_attribute(\"src\")\n",
    "\n",
    "urllib.request.urlretrieve(src, \"src.mp3\")"
   ]
  },
  {
   "cell_type": "code",
   "execution_count": 34,
   "metadata": {},
   "outputs": [
    {
     "name": "stdout",
     "output_type": "stream",
     "text": [
      ".\\src.flac\n"
     ]
    }
   ],
   "source": [
    "import os\n",
    "import glob\n",
    "\n",
    "wav_files = glob.glob('./*.mp3')\n",
    "\n",
    "\n",
    "for wav in wav_files:\n",
    "    mp3 = os.path.splitext(wav)[0] + '.flac'\n",
    "    print(mp3)\n",
    "    sound = AudioSegment.from_mp3(wav)\n",
    "    sound.export(mp3, format='flac')"
   ]
  },
  {
   "cell_type": "code",
   "execution_count": 35,
   "metadata": {},
   "outputs": [
    {
     "name": "stdout",
     "output_type": "stream",
     "text": [
      "Analyzing flac\n",
      "Text: arguably as valuable\n"
     ]
    }
   ],
   "source": [
    "\n",
    "dst = 'src.flac'\n",
    "\n",
    "r = sr.Recognizer()\n",
    "\n",
    "with sr.AudioFile(dst) as source:\n",
    "    r.adjust_for_ambient_noise(source)\n",
    "    print(\"Analyzing flac\")\n",
    "    audio = r.listen(source)\n",
    "\n",
    "try:\n",
    "    text = r.recognize_google(audio)\n",
    "    print(f'Text: {text}')\n",
    "\n",
    "except Exception as e:\n",
    "    print(e)\n",
    "\n",
    "audiobox = WebDriverWait(driver, 10).until(EC.element_to_be_clickable((By.XPATH, '//*[@id=\"audio-response\"]')))\n",
    "audiobox.send_keys(text)\n",
    "\n",
    "button = WebDriverWait(driver, 2).until(EC.element_to_be_clickable((By.XPATH, '//*[@id=\"recaptcha-verify-button\"]'))).click()\n"
   ]
  }
 ],
 "metadata": {
  "interpreter": {
   "hash": "8cb606a21dce8683b3ee58cfb2c07cb28e4d23cfe6be821578dd050f96dfcd5c"
  },
  "kernelspec": {
   "display_name": "Python 3.10.1 64-bit",
   "language": "python",
   "name": "python3"
  },
  "language_info": {
   "codemirror_mode": {
    "name": "ipython",
    "version": 3
   },
   "file_extension": ".py",
   "mimetype": "text/x-python",
   "name": "python",
   "nbconvert_exporter": "python",
   "pygments_lexer": "ipython3",
   "version": "3.10.1"
  },
  "orig_nbformat": 4
 },
 "nbformat": 4,
 "nbformat_minor": 2
}
